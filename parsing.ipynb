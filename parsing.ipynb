{
 "cells": [
  {
   "cell_type": "markdown",
   "id": "bb591637",
   "metadata": {
    "toc": true
   },
   "source": [
    "<h1>Table of Contents<span class=\"tocSkip\"></span></h1>\n",
    "<div class=\"toc\"><ul class=\"toc-item\"><li><span><a href=\"#Получение-географических-данных\" data-toc-modified-id=\"Получение-географических-данных-1\"><span class=\"toc-item-num\">1&nbsp;&nbsp;</span>Получение географических данных</a></span><ul class=\"toc-item\"><li><span><a href=\"#С-помощью-API-OSM-получаем-координаты-округов\" data-toc-modified-id=\"С-помощью-API-OSM-получаем-координаты-округов-1.1\"><span class=\"toc-item-num\">1.1&nbsp;&nbsp;</span>С помощью API OSM получаем координаты округов</a></span></li><li><span><a href=\"#Поиск-координат-с-помощью-Яндекс-Геокодер\" data-toc-modified-id=\"Поиск-координат-с-помощью-Яндекс-Геокодер-1.2\"><span class=\"toc-item-num\">1.2&nbsp;&nbsp;</span>Поиск координат с помощью Яндекс Геокодер</a></span></li></ul></li><li><span><a href=\"#Примечание\" data-toc-modified-id=\"Примечание-2\"><span class=\"toc-item-num\">2&nbsp;&nbsp;</span>Примечание</a></span></li></ul></div>"
   ]
  },
  {
   "cell_type": "markdown",
   "id": "0737f8df",
   "metadata": {},
   "source": [
    "# Визуализация показателя больниц на географической карте"
   ]
  },
  {
   "cell_type": "markdown",
   "id": "2c32f494",
   "metadata": {},
   "source": [
    "## Получение географических данных"
   ]
  },
  {
   "cell_type": "code",
   "execution_count": 15,
   "id": "1605156d",
   "metadata": {},
   "outputs": [],
   "source": [
    "# Импортируем библиотеки\n",
    "import pandas as pd\n",
    "import numpy as np\n",
    "from geojson import Feature, Polygon, FeatureCollection\n",
    "import geojson\n",
    "import requests"
   ]
  },
  {
   "cell_type": "markdown",
   "id": "815e5bb2",
   "metadata": {},
   "source": [
    "Загружаем список городских и управленческих округов"
   ]
  },
  {
   "cell_type": "code",
   "execution_count": 13,
   "id": "e8a61da8",
   "metadata": {},
   "outputs": [],
   "source": [
    "districts = pd.read_excel('districts.xlsx').dropna()"
   ]
  },
  {
   "cell_type": "code",
   "execution_count": 14,
   "id": "82aaa4d6",
   "metadata": {},
   "outputs": [
    {
     "data": {
      "text/html": [
       "<div>\n",
       "<style scoped>\n",
       "    .dataframe tbody tr th:only-of-type {\n",
       "        vertical-align: middle;\n",
       "    }\n",
       "\n",
       "    .dataframe tbody tr th {\n",
       "        vertical-align: top;\n",
       "    }\n",
       "\n",
       "    .dataframe thead th {\n",
       "        text-align: right;\n",
       "    }\n",
       "</style>\n",
       "<table border=\"1\" class=\"dataframe\">\n",
       "  <thead>\n",
       "    <tr style=\"text-align: right;\">\n",
       "      <th></th>\n",
       "      <th>district</th>\n",
       "      <th>unit</th>\n",
       "    </tr>\n",
       "  </thead>\n",
       "  <tbody>\n",
       "    <tr>\n",
       "      <th>0</th>\n",
       "      <td>Муниципальное образование город Алапаевск</td>\n",
       "      <td>Восточный</td>\n",
       "    </tr>\n",
       "    <tr>\n",
       "      <th>1</th>\n",
       "      <td>Муниципальное образование Алапаевское</td>\n",
       "      <td>Восточный</td>\n",
       "    </tr>\n",
       "    <tr>\n",
       "      <th>2</th>\n",
       "      <td>Арамильский городской округ</td>\n",
       "      <td>Южный</td>\n",
       "    </tr>\n",
       "    <tr>\n",
       "      <th>3</th>\n",
       "      <td>Артёмовский городской округ</td>\n",
       "      <td>Восточный</td>\n",
       "    </tr>\n",
       "    <tr>\n",
       "      <th>4</th>\n",
       "      <td>Артинский городской округ</td>\n",
       "      <td>Западный</td>\n",
       "    </tr>\n",
       "    <tr>\n",
       "      <th>...</th>\n",
       "      <td>...</td>\n",
       "      <td>...</td>\n",
       "    </tr>\n",
       "    <tr>\n",
       "      <th>63</th>\n",
       "      <td>Талицкий городской округ</td>\n",
       "      <td>Восточный</td>\n",
       "    </tr>\n",
       "    <tr>\n",
       "      <th>64</th>\n",
       "      <td>Тугулымский городской округ</td>\n",
       "      <td>Восточный</td>\n",
       "    </tr>\n",
       "    <tr>\n",
       "      <th>65</th>\n",
       "      <td>Туринский городской округ</td>\n",
       "      <td>Восточный</td>\n",
       "    </tr>\n",
       "    <tr>\n",
       "      <th>66</th>\n",
       "      <td>Городской округ ЗАТО Уральский</td>\n",
       "      <td>Южный</td>\n",
       "    </tr>\n",
       "    <tr>\n",
       "      <th>67</th>\n",
       "      <td>Шалинский городской округ</td>\n",
       "      <td>Западный</td>\n",
       "    </tr>\n",
       "  </tbody>\n",
       "</table>\n",
       "<p>68 rows × 2 columns</p>\n",
       "</div>"
      ],
      "text/plain": [
       "                                     district       unit\n",
       "0   Муниципальное образование город Алапаевск  Восточный\n",
       "1       Муниципальное образование Алапаевское  Восточный\n",
       "2                 Арамильский городской округ      Южный\n",
       "3                 Артёмовский городской округ  Восточный\n",
       "4                   Артинский городской округ   Западный\n",
       "..                                        ...        ...\n",
       "63                   Талицкий городской округ  Восточный\n",
       "64                Тугулымский городской округ  Восточный\n",
       "65                  Туринский городской округ  Восточный\n",
       "66             Городской округ ЗАТО Уральский      Южный\n",
       "67                  Шалинский городской округ   Западный\n",
       "\n",
       "[68 rows x 2 columns]"
      ]
     },
     "execution_count": 14,
     "metadata": {},
     "output_type": "execute_result"
    }
   ],
   "source": [
    "districts"
   ]
  },
  {
   "cell_type": "markdown",
   "id": "5ce1dc16",
   "metadata": {},
   "source": [
    "### С помощью API OSM получаем координаты округов"
   ]
  },
  {
   "cell_type": "code",
   "execution_count": 10,
   "id": "ac6bfb25",
   "metadata": {},
   "outputs": [
    {
     "name": "stdout",
     "output_type": "stream",
     "text": [
      "Нет в базе Муниципальное образование город Алапаевск\n",
      "Нет в базе Муниципальное образование Алапаевское\n",
      "Горноуральский городской округ\n",
      "Нет в базе Муниципальное образование «город Екатеринбург»\n",
      "Нет в базе Муниципальное образование город Ирбит\n",
      "Нет в базе Городской округ «Город Лесной»\n",
      "Нет в базе Городской округ ЗАТО Свободный\n",
      "Нет в базе Городской округ ЗАТО Уральский\n"
     ]
    }
   ],
   "source": [
    "url = \"https://nominatim.openstreetmap.org/search?\"\n",
    "# Создаем словарь для будующих объектов geojson\n",
    "lib_json = []\n",
    "# В цикле проводим поиск через сервис nominatim по названиям округов\n",
    "for j in districts.district.unique():\n",
    "# param - параметры для API запроса\n",
    "        param = {'q': f'{j}, Свердловская область',\n",
    "        'format': 'json',\n",
    "        'polygon_geojson': '1'}\n",
    "    req = requests.get(url=url, params=param) \n",
    "    json = req.json()\n",
    "# Если округ не обнаружен - выводим об этом сообщение    \n",
    "    if len(json) == 0:\n",
    "        print(f'Нет в базе {j}')\n",
    "    else:\n",
    "# Создаем объект Feature с координатами округа. Один округ - исключение обрабатываем иначе        \n",
    "        if j != 'Горноуральский городской округ':\n",
    "            lib_json.append(Feature(geometry=geojson.Polygon(req.json()[0]['geojson']['coordinates'][0])\n",
    "                                  , properties={'id':len(lib_json), 'name':j}))\n",
    "        else:\n",
    "            print(j)\n",
    "            lib_json.append(Feature(geometry=geojson.Polygon(req.json()[0]['geojson']['coordinates'])\n",
    "                                  , properties={'id':len(lib_json), 'name':j}))"
   ]
  },
  {
   "cell_type": "markdown",
   "id": "2e7e8767",
   "metadata": {},
   "source": [
    "Создаем объект FeatureCollection с координатами всех округов"
   ]
  },
  {
   "cell_type": "code",
   "execution_count": 16,
   "id": "6dacaab5",
   "metadata": {},
   "outputs": [],
   "source": [
    "geo_so = FeatureCollection(lib_json)"
   ]
  },
  {
   "cell_type": "code",
   "execution_count": 18,
   "id": "ba2a375b",
   "metadata": {},
   "outputs": [],
   "source": [
    "with open('districts_so.geojson', 'w') as f:\n",
    "    geojson.dump(geo_so, f)"
   ]
  },
  {
   "cell_type": "markdown",
   "id": "6427de55",
   "metadata": {},
   "source": [
    "### Поиск координат с помощью Яндекс Геокодер"
   ]
  },
  {
   "cell_type": "markdown",
   "id": "bc35ecee",
   "metadata": {},
   "source": [
    "Определяем функцию для получения координат больниц по адресу"
   ]
  },
  {
   "cell_type": "code",
   "execution_count": 19,
   "id": "733952c7",
   "metadata": {},
   "outputs": [],
   "source": [
    "# Ваш API ключ для сервиса Яндекс Геокодер\n",
    "apikey = ''"
   ]
  },
  {
   "cell_type": "code",
   "execution_count": null,
   "id": "39117469",
   "metadata": {},
   "outputs": [],
   "source": [
    "def get_coordinates(row: str, url='https://geocode-maps.yandex.ru/1.x?', apikey=apikey):\n",
    "    '''\n",
    "    Getting coordinates from API Yandex.Geolocator to adresses of hospitals of Sverdlovskaya oblast\n",
    "\n",
    "    Input:\n",
    "    row of pandas DataFrame(sample: from lambda function with axis=1), containing column: \"oid\" with unique code of hospital\n",
    "    and column 'adress' with adress of hospital\n",
    "\n",
    "    Output:\n",
    "    Row with initial columns plus string type columns 'longitude' and 'latitude' with coordinates\n",
    "\n",
    "    Raising:\n",
    "    In case of errors in getting coordinates function prints message and continue to run\n",
    "    Make new list with adress and OID of hospital with error in searching coordinates\n",
    "\n",
    "\n",
    "    '''\n",
    "    global adress_errors\n",
    "    row['longitude'] = np.NaN\n",
    "    row['latitude'] = np.NaN\n",
    "    raw_adress = row.adress\n",
    "    adress = raw_adress.strip().replace(' ', '+').replace('.', '+').replace(',',\n",
    "                                                                            '+').replace('++', '+').replace('+++', '+')\n",
    "    param = {'apikey': apikey,\n",
    "             'geocode': adress,\n",
    "             'rspn': '1',\n",
    "             'bbox': '56.008,56.783~63.075,67.939',\n",
    "             'format': 'json'\n",
    "             }\n",
    "    k = 0\n",
    "    adresses = frmo[frmo.oid == row.oid].adress.unique()\n",
    "    while k < len(adresses):\n",
    "        try:\n",
    "            if k == 0:\n",
    "                req_coordinates = requests.get(url=url, params=param)\n",
    "                row['longitude'] = (req_coordinates.json()['response']['GeoObjectCollection']['featureMember'][0]\n",
    "                                    ['GeoObject']['Point']['pos'].split(' ')[0])\n",
    "                row['latitude'] = (req_coordinates.json()['response']['GeoObjectCollection']['featureMember'][0]\n",
    "                                   ['GeoObject']['Point']['pos'].split(' ')[1])\n",
    "            else:\n",
    "                adress = adresses[k-1].replace(' ', '+').replace('.', '+').replace(\n",
    "                    ',', '+').replace('++', '+').replace('+++', '+')\n",
    "                param = {'apikey': apikey,\n",
    "                         'geocode': adress,\n",
    "                         'rspn': '1',\n",
    "                         'bbox': '56.008,56.783~63.075,67.939',\n",
    "                         'format': 'json'\n",
    "                         }\n",
    "                req_coordinates = requests.get(url=url_geocoder, params=param)\n",
    "                row['longitude'] = (req_coordinates.json()['response']['GeoObjectCollection']['featureMember'][0]\n",
    "                                    ['GeoObject']['Point']['pos'].split(' ')[0])\n",
    "                row['latitude'] = (req_coordinates.json()['response']['GeoObjectCollection']['featureMember'][0]\n",
    "                                   ['GeoObject']['Point']['pos'].split(' ')[1])\n",
    "        except:\n",
    "            print(\n",
    "                f'Ошибка при поиске координат для адреса: {adress}, OID: {row.oid}')\n",
    "            adress_errors.append([raw_adress, row.oid])\n",
    "            k = k + 1\n",
    "        else:\n",
    "            break\n",
    "\n",
    "    return row"
   ]
  },
  {
   "cell_type": "code",
   "execution_count": null,
   "id": "f5a13292",
   "metadata": {},
   "outputs": [],
   "source": [
    "geo_so = FeatureCollection(lib_json)"
   ]
  },
  {
   "cell_type": "markdown",
   "id": "6cdf1215",
   "metadata": {},
   "source": [
    "Для получения адрессов больниц(амбулаторно-поликлинического звена) используем базу из ФРМО. К сожалению не могу выложить ее в открытый доступ"
   ]
  },
  {
   "cell_type": "code",
   "execution_count": null,
   "id": "f738b3c0",
   "metadata": {},
   "outputs": [],
   "source": [
    "frmo = pd.read_excel('frmo_august.xlsx', header=6).iloc[:, [1, 2, 3, 16, 21]]\n",
    "frmo.columns = ['oid', 'hospital', 'tvsp', 'adress', 'type_sp']\n",
    "frmo"
   ]
  },
  {
   "cell_type": "code",
   "execution_count": null,
   "id": "4dd5045d",
   "metadata": {},
   "outputs": [],
   "source": [
    "frmo_ambulatory = frmo[frmo.type_sp.isin(['Фельдшерско-акушерские пункты (включая передвижные)', 'Поликлиники (поликлинические отделения)',\n",
    "                                          'Амбулатории', 'Женские консультации', 'Стоматологические', 'Детские поликлиники (отделения, кабинеты)',\n",
    "                                          'Стоматологические детские', 'Психиатрические', 'Амбулатории (включая передвижные)',\n",
    "                                          'Фельдшерские пункты (включая передвижные)'])]"
   ]
  },
  {
   "cell_type": "code",
   "execution_count": null,
   "id": "f1564652",
   "metadata": {},
   "outputs": [],
   "source": [
    "excluded = ['ФАП', 'ОВП', 'пгт', 'филиал', 'СОШ', ' сад ', 'Фельдшерско',\n",
    "            'Фельдшерско', 'ФП', 'Фап', 'фап', 'школы', 'сад\"', 'Общежитие']\n",
    "frmo_one_mo = frmo.query(\n",
    "    \"~tvsp.str.contains('|'.join(@excluded))\", engine='python')\n",
    "frmo_one_mo = frmo_one_mo.drop_duplicates('oid').reset_index(drop=True)"
   ]
  },
  {
   "cell_type": "markdown",
   "id": "3c4f5fe9",
   "metadata": {},
   "source": [
    "Получаем координаты больниц"
   ]
  },
  {
   "cell_type": "code",
   "execution_count": null,
   "id": "da5d9ed0",
   "metadata": {},
   "outputs": [],
   "source": [
    "adress_errors = list()\n",
    "frmo_one_mo = frmo_one_mo.apply(lambda x: get_coordinates(x), axis=1)"
   ]
  },
  {
   "cell_type": "code",
   "execution_count": null,
   "id": "1f0aceb2",
   "metadata": {},
   "outputs": [],
   "source": [
    "frmo_one_mo.to_excel('frmo_coordinates.xlsx', index=0)"
   ]
  },
  {
   "cell_type": "markdown",
   "id": "9674101c",
   "metadata": {},
   "source": [
    "## Примечание"
   ]
  },
  {
   "cell_type": "markdown",
   "id": "7f7d66bc",
   "metadata": {},
   "source": [
    "К сожалению точность Яндекс Геокодера меня не устроила, поэтому результат его поисков использоваться не будет"
   ]
  }
 ],
 "metadata": {
  "kernelspec": {
   "display_name": "Python 3 (ipykernel)",
   "language": "python",
   "name": "python3"
  },
  "language_info": {
   "codemirror_mode": {
    "name": "ipython",
    "version": 3
   },
   "file_extension": ".py",
   "mimetype": "text/x-python",
   "name": "python",
   "nbconvert_exporter": "python",
   "pygments_lexer": "ipython3",
   "version": "3.9.13"
  },
  "toc": {
   "base_numbering": 1,
   "nav_menu": {},
   "number_sections": true,
   "sideBar": true,
   "skip_h1_title": true,
   "title_cell": "Table of Contents",
   "title_sidebar": "Contents",
   "toc_cell": true,
   "toc_position": {},
   "toc_section_display": true,
   "toc_window_display": false
  }
 },
 "nbformat": 4,
 "nbformat_minor": 5
}
